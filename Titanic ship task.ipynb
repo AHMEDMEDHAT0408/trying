{
  "cells": [
    {
      "cell_type": "markdown",
      "metadata": {
        "id": "view-in-github",
        "colab_type": "text"
      },
      "source": [
        "<a href=\"https://colab.research.google.com/github/AHMEDMEDHAT0408/trying/blob/main/Titanic%20ship%20task.ipynb\" target=\"_parent\"><img src=\"https://colab.research.google.com/assets/colab-badge.svg\" alt=\"Open In Colab\"/></a>"
      ]
    },
    {
      "cell_type": "code",
      "execution_count": null,
      "id": "3ebdea28-c7b6-4932-afb8-1bdfff5d0145",
      "metadata": {
        "id": "3ebdea28-c7b6-4932-afb8-1bdfff5d0145"
      },
      "outputs": [],
      "source": [
        "#import used libraries and modules\n",
        "import pandas as pd\n",
        "import numpy as np\n",
        "import matplotlib.pyplot as plt\n",
        "from sklearn.model_selection import train_test_split, GridSearchCV\n",
        "from sklearn.linear_model import LogisticRegression\n",
        "from sklearn.ensemble import RandomForestClassifier\n",
        "from sklearn.preprocessing import LabelEncoder, StandardScaler\n",
        "from sklearn.impute import SimpleImputer\n",
        "from sklearn.metrics import accuracy_score, precision_score, recall_score, f1_score, confusion_matrix, classification_report"
      ]
    },
    {
      "cell_type": "code",
      "execution_count": null,
      "id": "68d0eb20-e911-4f85-9e10-daeae6668b76",
      "metadata": {
        "id": "68d0eb20-e911-4f85-9e10-daeae6668b76"
      },
      "outputs": [],
      "source": [
        "# read the csv files and store it as a dataframe\n",
        "train_df = pd.read_csv('train.csv')\n",
        "test_df = pd.read_csv('test.csv')"
      ]
    },
    {
      "cell_type": "code",
      "execution_count": null,
      "id": "70f9d86e-9c6a-42f7-9d52-be02fd229f3a",
      "metadata": {
        "id": "70f9d86e-9c6a-42f7-9d52-be02fd229f3a",
        "outputId": "f04388e9-50d7-4555-f6c5-76b3a2690d04"
      },
      "outputs": [
        {
          "data": {
            "text/html": [
              "<div>\n",
              "<style scoped>\n",
              "    .dataframe tbody tr th:only-of-type {\n",
              "        vertical-align: middle;\n",
              "    }\n",
              "\n",
              "    .dataframe tbody tr th {\n",
              "        vertical-align: top;\n",
              "    }\n",
              "\n",
              "    .dataframe thead th {\n",
              "        text-align: right;\n",
              "    }\n",
              "</style>\n",
              "<table border=\"1\" class=\"dataframe\">\n",
              "  <thead>\n",
              "    <tr style=\"text-align: right;\">\n",
              "      <th></th>\n",
              "      <th>PassengerId</th>\n",
              "      <th>Pclass</th>\n",
              "      <th>Name</th>\n",
              "      <th>Sex</th>\n",
              "      <th>Age</th>\n",
              "      <th>SibSp</th>\n",
              "      <th>Parch</th>\n",
              "      <th>Ticket</th>\n",
              "      <th>Fare</th>\n",
              "      <th>Cabin</th>\n",
              "      <th>Embarked</th>\n",
              "    </tr>\n",
              "  </thead>\n",
              "  <tbody>\n",
              "    <tr>\n",
              "      <th>0</th>\n",
              "      <td>892</td>\n",
              "      <td>3</td>\n",
              "      <td>Kelly, Mr. James</td>\n",
              "      <td>male</td>\n",
              "      <td>34.5</td>\n",
              "      <td>0</td>\n",
              "      <td>0</td>\n",
              "      <td>330911</td>\n",
              "      <td>7.8292</td>\n",
              "      <td>NaN</td>\n",
              "      <td>Q</td>\n",
              "    </tr>\n",
              "    <tr>\n",
              "      <th>1</th>\n",
              "      <td>893</td>\n",
              "      <td>3</td>\n",
              "      <td>Wilkes, Mrs. James (Ellen Needs)</td>\n",
              "      <td>female</td>\n",
              "      <td>47.0</td>\n",
              "      <td>1</td>\n",
              "      <td>0</td>\n",
              "      <td>363272</td>\n",
              "      <td>7.0000</td>\n",
              "      <td>NaN</td>\n",
              "      <td>S</td>\n",
              "    </tr>\n",
              "    <tr>\n",
              "      <th>2</th>\n",
              "      <td>894</td>\n",
              "      <td>2</td>\n",
              "      <td>Myles, Mr. Thomas Francis</td>\n",
              "      <td>male</td>\n",
              "      <td>62.0</td>\n",
              "      <td>0</td>\n",
              "      <td>0</td>\n",
              "      <td>240276</td>\n",
              "      <td>9.6875</td>\n",
              "      <td>NaN</td>\n",
              "      <td>Q</td>\n",
              "    </tr>\n",
              "    <tr>\n",
              "      <th>3</th>\n",
              "      <td>895</td>\n",
              "      <td>3</td>\n",
              "      <td>Wirz, Mr. Albert</td>\n",
              "      <td>male</td>\n",
              "      <td>27.0</td>\n",
              "      <td>0</td>\n",
              "      <td>0</td>\n",
              "      <td>315154</td>\n",
              "      <td>8.6625</td>\n",
              "      <td>NaN</td>\n",
              "      <td>S</td>\n",
              "    </tr>\n",
              "    <tr>\n",
              "      <th>4</th>\n",
              "      <td>896</td>\n",
              "      <td>3</td>\n",
              "      <td>Hirvonen, Mrs. Alexander (Helga E Lindqvist)</td>\n",
              "      <td>female</td>\n",
              "      <td>22.0</td>\n",
              "      <td>1</td>\n",
              "      <td>1</td>\n",
              "      <td>3101298</td>\n",
              "      <td>12.2875</td>\n",
              "      <td>NaN</td>\n",
              "      <td>S</td>\n",
              "    </tr>\n",
              "  </tbody>\n",
              "</table>\n",
              "</div>"
            ],
            "text/plain": [
              "   PassengerId  Pclass                                          Name     Sex  \\\n",
              "0          892       3                              Kelly, Mr. James    male   \n",
              "1          893       3              Wilkes, Mrs. James (Ellen Needs)  female   \n",
              "2          894       2                     Myles, Mr. Thomas Francis    male   \n",
              "3          895       3                              Wirz, Mr. Albert    male   \n",
              "4          896       3  Hirvonen, Mrs. Alexander (Helga E Lindqvist)  female   \n",
              "\n",
              "    Age  SibSp  Parch   Ticket     Fare Cabin Embarked  \n",
              "0  34.5      0      0   330911   7.8292   NaN        Q  \n",
              "1  47.0      1      0   363272   7.0000   NaN        S  \n",
              "2  62.0      0      0   240276   9.6875   NaN        Q  \n",
              "3  27.0      0      0   315154   8.6625   NaN        S  \n",
              "4  22.0      1      1  3101298  12.2875   NaN        S  "
            ]
          },
          "execution_count": 13,
          "metadata": {},
          "output_type": "execute_result"
        }
      ],
      "source": [
        "# testing/Display the first 5 rows of the dataframe\n",
        "train_df.head()"
      ]
    },
    {
      "cell_type": "code",
      "execution_count": null,
      "id": "14ffae3a-78b1-4423-9053-541c98790a1f",
      "metadata": {
        "id": "14ffae3a-78b1-4423-9053-541c98790a1f",
        "outputId": "0dec3778-2b75-4d73-f407-ce6eafc5fbe5"
      },
      "outputs": [
        {
          "data": {
            "image/png": "[encoded data removed]",
            "text/plain": [
              "<Figure size 640x480 with 1 Axes>"
            ]
          },
          "metadata": {},
          "output_type": "display_data"
        }
      ],
      "source": [
        "# matPlotlibing survival count by gender aka proofing sexism\n",
        "survival_by_gender = train_df.groupby('Sex')['Survived'].value_counts().unstack()\n",
        "survival_by_gender.plot(kind='bar', stacked=True)\n",
        "plt.title('Survival by Gender')\n",
        "plt.xlabel('Gender')\n",
        "plt.ylabel('Number of Passengers')\n",
        "plt.legend(['Did not survive', 'Survived'])\n",
        "plt.show()\n"
      ]
    },
    {
      "cell_type": "code",
      "execution_count": null,
      "id": "43e8fc48-49c2-4edd-ae34-31d683c4db49",
      "metadata": {
        "id": "43e8fc48-49c2-4edd-ae34-31d683c4db49",
        "outputId": "2da90b11-18d0-485f-aba7-2c7fe9391a86"
      },
      "outputs": [
        {
          "data": {
            "image/png": "[encoded data removed]",
            "text/plain": [
              "<Figure size 640x480 with 1 Axes>"
            ]
          },
          "metadata": {},
          "output_type": "display_data"
        }
      ],
      "source": [
        "# matPlotlibing survival count by passenger class aka proofing social injustice\n",
        "survival_by_class = train_df.groupby('Pclass')['Survived'].value_counts().unstack()\n",
        "survival_by_class.plot(kind='bar', stacked=True)\n",
        "plt.title('Survival by Passenger Class')\n",
        "plt.xlabel('Class')\n",
        "plt.ylabel('Number of Passengers')\n",
        "plt.legend(['Did not survive', 'Survived'])\n",
        "plt.show()\n"
      ]
    },
    {
      "cell_type": "code",
      "execution_count": null,
      "id": "993855d3-1163-4277-9ca8-1270fe7ca824",
      "metadata": {
        "id": "993855d3-1163-4277-9ca8-1270fe7ca824",
        "outputId": "cca2bfc7-2a31-4d1b-8b0c-c2eb8d4a04f8"
      },
      "outputs": [
        {
          "data": {
            "text/plain": [
              "PassengerId      0\n",
              "Survived         0\n",
              "Pclass           0\n",
              "Name             0\n",
              "Sex              0\n",
              "Age            177\n",
              "SibSp            0\n",
              "Parch            0\n",
              "Ticket           0\n",
              "Fare             0\n",
              "Cabin          687\n",
              "Embarked         2\n",
              "dtype: int64"
            ]
          },
          "execution_count": 19,
          "metadata": {},
          "output_type": "execute_result"
        }
      ],
      "source": [
        "# Checking for missing values in train dataframe\n",
        "train_df.isnull().sum()"
      ]
    },
    {
      "cell_type": "code",
      "execution_count": null,
      "id": "2ea693e4-f5fa-41af-aa48-7b2e93f3a03c",
      "metadata": {
        "id": "2ea693e4-f5fa-41af-aa48-7b2e93f3a03c",
        "outputId": "450f4df7-1f36-4eb3-f74e-741983973400"
      },
      "outputs": [
        {
          "data": {
            "text/plain": [
              "PassengerId      0\n",
              "Pclass           0\n",
              "Name             0\n",
              "Sex              0\n",
              "Age             86\n",
              "SibSp            0\n",
              "Parch            0\n",
              "Ticket           0\n",
              "Fare             1\n",
              "Cabin          327\n",
              "Embarked         0\n",
              "dtype: int64"
            ]
          },
          "execution_count": 21,
          "metadata": {},
          "output_type": "execute_result"
        }
      ],
      "source": [
        "# Checking for missing values in test dataframe\n",
        "test_df.isnull().sum()"
      ]
    },
    {
      "cell_type": "code",
      "execution_count": null,
      "id": "629ddc3d-9bab-4da7-8201-3a522dfaa28f",
      "metadata": {
        "id": "629ddc3d-9bab-4da7-8201-3a522dfaa28f"
      },
      "outputs": [],
      "source": [
        "#completing the missing data\n",
        "median = SimpleImputer(strategy='median')\n",
        "train_df['Age'] = median.fit_transform(train_df[['Age']])\n",
        "test_df['Age'] = median.transform(test_df[['Age']])\n"
      ]
    },
    {
      "cell_type": "code",
      "execution_count": null,
      "id": "a55cc001-6901-47eb-b72a-25474ec90573",
      "metadata": {
        "id": "a55cc001-6901-47eb-b72a-25474ec90573",
        "outputId": "2131428f-d916-45bd-f39e-9fb7e6b44686"
      },
      "outputs": [
        {
          "data": {
            "text/plain": [
              "PassengerId      0\n",
              "Survived         0\n",
              "Pclass           0\n",
              "Name             0\n",
              "Sex              0\n",
              "Age              0\n",
              "SibSp            0\n",
              "Parch            0\n",
              "Ticket           0\n",
              "Fare             0\n",
              "Cabin          687\n",
              "Embarked         2\n",
              "dtype: int64"
            ]
          },
          "execution_count": 25,
          "metadata": {},
          "output_type": "execute_result"
        }
      ],
      "source": [
        "# Checking for missing values in train dataframe\n",
        "train_df.isnull().sum()"
      ]
    },
    {
      "cell_type": "code",
      "execution_count": null,
      "id": "556e1a25-303f-4b1b-a4e6-d9fbf2b003c3",
      "metadata": {
        "id": "556e1a25-303f-4b1b-a4e6-d9fbf2b003c3",
        "outputId": "98a4a21c-f9d0-45b7-b4a5-1d2d94a1cb54"
      },
      "outputs": [
        {
          "data": {
            "text/plain": [
              "PassengerId      0\n",
              "Pclass           0\n",
              "Name             0\n",
              "Sex              0\n",
              "Age              0\n",
              "SibSp            0\n",
              "Parch            0\n",
              "Ticket           0\n",
              "Fare             1\n",
              "Cabin          327\n",
              "Embarked         0\n",
              "dtype: int64"
            ]
          },
          "execution_count": 27,
          "metadata": {},
          "output_type": "execute_result"
        }
      ],
      "source": [
        "# Checking for missing values in test dataframe\n",
        "test_df.isnull().sum()"
      ]
    },
    {
      "cell_type": "code",
      "execution_count": null,
      "id": "6f6444f1-d8c6-4999-98a4-e4cc566d33af",
      "metadata": {
        "id": "6f6444f1-d8c6-4999-98a4-e4cc566d33af"
      },
      "outputs": [],
      "source": [
        "# Droping the Cabin because too many missing values\n",
        "train_df = train_df.drop(columns='Cabin')\n",
        "test_df = test_df.drop(columns='Cabin')"
      ]
    },
    {
      "cell_type": "code",
      "execution_count": null,
      "id": "af2479a6-79a0-4671-8f05-52b2f8e3342b",
      "metadata": {
        "id": "af2479a6-79a0-4671-8f05-52b2f8e3342b",
        "outputId": "daf214d4-9f0d-4365-ed82-9bb6e1b579a2"
      },
      "outputs": [
        {
          "data": {
            "text/plain": [
              "PassengerId    0\n",
              "Pclass         0\n",
              "Name           0\n",
              "Sex            0\n",
              "Age            0\n",
              "SibSp          0\n",
              "Parch          0\n",
              "Ticket         0\n",
              "Fare           1\n",
              "Embarked       0\n",
              "dtype: int64"
            ]
          },
          "execution_count": 31,
          "metadata": {},
          "output_type": "execute_result"
        }
      ],
      "source": [
        "# Checking for missing values in test dataframe\n",
        "test_df.isnull().sum()"
      ]
    },
    {
      "cell_type": "code",
      "execution_count": null,
      "id": "f63684b6-58bd-442a-aa8e-7fcbfd7331cf",
      "metadata": {
        "id": "f63684b6-58bd-442a-aa8e-7fcbfd7331cf",
        "outputId": "53980358-ec18-44ec-ea64-c2db593c5814"
      },
      "outputs": [
        {
          "data": {
            "text/plain": [
              "PassengerId    0\n",
              "Survived       0\n",
              "Pclass         0\n",
              "Name           0\n",
              "Sex            0\n",
              "Age            0\n",
              "SibSp          0\n",
              "Parch          0\n",
              "Ticket         0\n",
              "Fare           0\n",
              "Embarked       2\n",
              "dtype: int64"
            ]
          },
          "execution_count": 33,
          "metadata": {},
          "output_type": "execute_result"
        }
      ],
      "source": [
        "# Checking for missing values in train dataframe\n",
        "train_df.isnull().sum()"
      ]
    },
    {
      "cell_type": "code",
      "execution_count": null,
      "id": "b710d600-6de3-4027-ae88-81da2da60b45",
      "metadata": {
        "id": "b710d600-6de3-4027-ae88-81da2da60b45"
      },
      "outputs": [],
      "source": [
        "#filling the missing fare with the median fare and filling the missing emarked with the most frequent emarked\n",
        "test_df['Fare'] = median.fit_transform(test_df[['Fare']])\n",
        "train_df['Embarked'] = train_df['Embarked'].fillna(train_df['Embarked'].mode()[0])"
      ]
    },
    {
      "cell_type": "code",
      "execution_count": null,
      "id": "cf4202ce-4c66-491e-870b-93c79d83d16e",
      "metadata": {
        "id": "cf4202ce-4c66-491e-870b-93c79d83d16e",
        "outputId": "3ac66747-7e9a-4772-e8c6-20dd9e53beff"
      },
      "outputs": [
        {
          "data": {
            "text/plain": [
              "PassengerId    0\n",
              "Survived       0\n",
              "Pclass         0\n",
              "Name           0\n",
              "Sex            0\n",
              "Age            0\n",
              "SibSp          0\n",
              "Parch          0\n",
              "Ticket         0\n",
              "Fare           0\n",
              "Embarked       0\n",
              "dtype: int64"
            ]
          },
          "execution_count": 37,
          "metadata": {},
          "output_type": "execute_result"
        }
      ],
      "source": [
        "# Checking for missing values in train dataframe\n",
        "train_df.isnull().sum()"
      ]
    },
    {
      "cell_type": "code",
      "execution_count": null,
      "id": "a6c042dc-07c5-46de-9085-7ca029d72ea7",
      "metadata": {
        "id": "a6c042dc-07c5-46de-9085-7ca029d72ea7",
        "outputId": "e71ab7b4-643b-4e81-9204-2ede4502032d"
      },
      "outputs": [
        {
          "data": {
            "text/plain": [
              "PassengerId    0\n",
              "Pclass         0\n",
              "Name           0\n",
              "Sex            0\n",
              "Age            0\n",
              "SibSp          0\n",
              "Parch          0\n",
              "Ticket         0\n",
              "Fare           0\n",
              "Embarked       0\n",
              "dtype: int64"
            ]
          },
          "execution_count": 39,
          "metadata": {},
          "output_type": "execute_result"
        }
      ],
      "source": [
        "# Checking for missing values in test dataframe\n",
        "test_df.isnull().sum()"
      ]
    },
    {
      "cell_type": "code",
      "execution_count": null,
      "id": "60e8443e-9933-4302-aeb6-e4e7ba50ad18",
      "metadata": {
        "id": "60e8443e-9933-4302-aeb6-e4e7ba50ad18"
      },
      "outputs": [],
      "source": [
        "# Define features and labels\n",
        "X = train_df.drop(columns=['Survived', 'PassengerId', 'Name', 'Ticket'])\n",
        "y = train_df['Survived']\n",
        "\n",
        "# Test data (Note: No 'Survived' column in the test set)\n",
        "X_test = test_df.drop(columns=['PassengerId', 'Name', 'Ticket'])\n",
        "\n",
        "# Split the training data into train and validation sets\n",
        "X_train, X_val, y_train, y_val = train_test_split(X, y, test_size=0.2, random_state=42)\n"
      ]
    },
    {
      "cell_type": "code",
      "execution_count": null,
      "id": "63f37c98-ea5b-474a-9859-b7d5fe98a1a7",
      "metadata": {
        "id": "63f37c98-ea5b-474a-9859-b7d5fe98a1a7",
        "outputId": "f8ddead8-1bb5-4d67-c108-930901f23e1d"
      },
      "outputs": [
        {
          "name": "stdout",
          "output_type": "stream",
          "text": [
            "Accuracy: 0.8100558659217877\n",
            "Precision: 0.7857142857142857\n",
            "Recall: 0.7432432432432432\n",
            "F1 Score: 0.7638888888888888\n"
          ]
        }
      ],
      "source": [
        "# Convert categorical variables in the training and validation sets\n",
        "X_train_encoded = pd.get_dummies(X_train)\n",
        "X_val_encoded = pd.get_dummies(X_val)\n",
        "\n",
        "# Ensure both sets have the same columns\n",
        "X_val_encoded = X_val_encoded.reindex(columns=X_train_encoded.columns, fill_value=0)\n",
        "\n",
        "# Train Logistic Regression\n",
        "logreg = LogisticRegression(max_iter=1000)\n",
        "logreg.fit(X_train_encoded, y_train)\n",
        "\n",
        "# Predict on validation set\n",
        "y_pred_logreg = logreg.predict(X_val_encoded)\n",
        "\n",
        "# Evaluate the model\n",
        "accuracy = accuracy_score(y_val, y_pred_logreg)\n",
        "precision = precision_score(y_val, y_pred_logreg)\n",
        "recall = recall_score(y_val, y_pred_logreg)\n",
        "f1 = f1_score(y_val, y_pred_logreg)\n",
        "\n",
        "print(f'Accuracy: {accuracy}')\n",
        "print(f'Precision: {precision}')\n",
        "print(f'Recall: {recall}')\n",
        "print(f'F1 Score: {f1}')\n"
      ]
    },
    {
      "cell_type": "code",
      "execution_count": null,
      "id": "3f1ac050-96c8-464b-a46e-b13a11a9aa2e",
      "metadata": {
        "id": "3f1ac050-96c8-464b-a46e-b13a11a9aa2e",
        "outputId": "553b98af-903e-4367-8e3c-2ee5d1761523"
      },
      "outputs": [
        {
          "name": "stdout",
          "output_type": "stream",
          "text": [
            "Random Forest - Accuracy: 0.8212290502793296, Precision: 0.7837837837837838, Recall: 0.7837837837837838, F1-score: 0.7837837837837838\n"
          ]
        }
      ],
      "source": [
        "# Train Random Forest Classifier using the encoded data\n",
        "rf = RandomForestClassifier(n_estimators=100)\n",
        "rf.fit(X_train_encoded, y_train)\n",
        "\n",
        "# Predict on validation set using the encoded validation data\n",
        "y_pred_rf = rf.predict(X_val_encoded)\n",
        "\n",
        "# Model evaluation\n",
        "accuracy_rf = accuracy_score(y_val, y_pred_rf)\n",
        "precision_rf = precision_score(y_val, y_pred_rf)\n",
        "recall_rf = recall_score(y_val, y_pred_rf)\n",
        "f1_rf = f1_score(y_val, y_pred_rf)\n",
        "\n",
        "print(f\"Random Forest - Accuracy: {accuracy_rf}, Precision: {precision_rf}, Recall: {recall_rf}, F1-score: {f1_rf}\")\n"
      ]
    },
    {
      "cell_type": "code",
      "execution_count": null,
      "id": "1d48092b-35f7-4110-8c75-1dbed7d21606",
      "metadata": {
        "id": "1d48092b-35f7-4110-8c75-1dbed7d21606",
        "outputId": "951a1406-b1a4-43cf-e36d-1d184282039c"
      },
      "outputs": [
        {
          "name": "stdout",
          "output_type": "stream",
          "text": [
            "[[90 15]\n",
            " [19 55]]\n",
            "              precision    recall  f1-score   support\n",
            "\n",
            "           0       0.83      0.86      0.84       105\n",
            "           1       0.79      0.74      0.76        74\n",
            "\n",
            "    accuracy                           0.81       179\n",
            "   macro avg       0.81      0.80      0.80       179\n",
            "weighted avg       0.81      0.81      0.81       179\n",
            "\n",
            "[[89 16]\n",
            " [16 58]]\n",
            "              precision    recall  f1-score   support\n",
            "\n",
            "           0       0.85      0.85      0.85       105\n",
            "           1       0.78      0.78      0.78        74\n",
            "\n",
            "    accuracy                           0.82       179\n",
            "   macro avg       0.82      0.82      0.82       179\n",
            "weighted avg       0.82      0.82      0.82       179\n",
            "\n"
          ]
        }
      ],
      "source": [
        "# Confusion matrix and classification report for Logistic Regression\n",
        "print(confusion_matrix(y_val, y_pred_logreg))\n",
        "print(classification_report(y_val, y_pred_logreg))\n",
        "\n",
        "# Confusion matrix and classification report for Random Forest\n",
        "print(confusion_matrix(y_val, y_pred_rf))\n",
        "print(classification_report(y_val, y_pred_rf))\n"
      ]
    },
    {
      "cell_type": "code",
      "execution_count": null,
      "id": "30f0f51e-0311-4009-8f71-6976a0d8de88",
      "metadata": {
        "id": "30f0f51e-0311-4009-8f71-6976a0d8de88"
      },
      "outputs": [],
      "source": [
        "# Encode the test set using the same method as the training set\n",
        "X_test_encoded = pd.get_dummies(X_test)\n",
        "\n",
        "# Ensure the test set has the same columns as the training set\n",
        "X_test_encoded = X_test_encoded.reindex(columns=X_train_encoded.columns, fill_value=0)\n",
        "\n",
        "# Predict survival for the test set\n",
        "test_predictions = rf.predict(X_test_encoded)\n",
        "\n",
        "# Create results DataFrame\n",
        "results = pd.DataFrame({\n",
        "    'PassengerId': test_df['PassengerId'],\n",
        "    'Survived': test_predictions\n",
        "})\n",
        "\n",
        "# Save results to a CSV file\n",
        "results.to_csv('results.csv', index=False)\n"
      ]
    },
    {
      "cell_type": "code",
      "execution_count": null,
      "id": "ebd0f8db-09ac-45c0-ae50-928af527acee",
      "metadata": {
        "id": "ebd0f8db-09ac-45c0-ae50-928af527acee"
      },
      "outputs": [],
      "source": []
    }
  ],
  "metadata": {
    "kernelspec": {
      "display_name": "Python 3 (ipykernel)",
      "language": "python",
      "name": "python3"
    },
    "language_info": {
      "codemirror_mode": {
        "name": "ipython",
        "version": 3
      },
      "file_extension": ".py",
      "mimetype": "text/x-python",
      "name": "python",
      "nbconvert_exporter": "python",
      "pygments_lexer": "ipython3",
      "version": "3.12.4"
    },
    "colab": {
      "provenance": [],
      "include_colab_link": true
    }
  },
  "nbformat": 4,
  "nbformat_minor": 5
}